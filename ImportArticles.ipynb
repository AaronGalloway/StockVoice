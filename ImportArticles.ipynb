{
 "cells": [
  {
   "cell_type": "code",
   "execution_count": 1,
   "metadata": {},
   "outputs": [],
   "source": [
    "from newsapi import NewsApiClient\n",
    "import os\n",
    "import json\n",
    "import requests\n",
    "import pandas as pd\n",
    "# Init\n",
    "newsapi = NewsApiClient(api_key='2fe3673e693940f28b0767685f97871f')"
   ]
  },
  {
   "cell_type": "code",
   "execution_count": 2,
   "metadata": {},
   "outputs": [
    {
     "data": {
      "text/plain": [
       "{'status': 'error',\n",
       " 'code': 'parameterInvalid',\n",
       " 'message': 'You are trying to request results too far in the past. Your plan permits you to request articles as far back as 2020-12-06, but you have requested 2020-01-01. You may need to upgrade to a paid plan.'}"
      ]
     },
     "execution_count": 2,
     "metadata": {},
     "output_type": "execute_result"
    }
   ],
   "source": [
    "# Getting the president articles\n",
    "usa_president_url = \"https://newsapi.org/v2/everything?q=president&from=2020-01-01&to=2020-12-31&apiKey=2fe3673e693940f28b0767685f97871f\"\n",
    "response = requests.get(usa_president_url)\n",
    "response_json = response.json()\n",
    "response_json"
   ]
  },
  {
   "cell_type": "code",
   "execution_count": 4,
   "metadata": {},
   "outputs": [
    {
     "ename": "KeyError",
     "evalue": "'articles'",
     "output_type": "error",
     "traceback": [
      "\u001b[1;31m---------------------------------------------------------------------------\u001b[0m",
      "\u001b[1;31mKeyError\u001b[0m                                  Traceback (most recent call last)",
      "\u001b[1;32m<ipython-input-4-24d9843334f2>\u001b[0m in \u001b[0;36m<module>\u001b[1;34m\u001b[0m\n\u001b[1;32m----> 1\u001b[1;33m \u001b[0mus_president_articles_df\u001b[0m \u001b[1;33m=\u001b[0m \u001b[0mpd\u001b[0m\u001b[1;33m.\u001b[0m\u001b[0mDataFrame\u001b[0m\u001b[1;33m(\u001b[0m\u001b[0mresponse_json\u001b[0m\u001b[1;33m[\u001b[0m\u001b[1;34m'articles'\u001b[0m\u001b[1;33m]\u001b[0m\u001b[1;33m)\u001b[0m\u001b[1;33m\u001b[0m\u001b[1;33m\u001b[0m\u001b[0m\n\u001b[0m\u001b[0;32m      2\u001b[0m \u001b[0mus_president_articles_df\u001b[0m\u001b[1;33m.\u001b[0m\u001b[0mhead\u001b[0m\u001b[1;33m(\u001b[0m\u001b[1;33m)\u001b[0m\u001b[1;33m\u001b[0m\u001b[1;33m\u001b[0m\u001b[0m\n",
      "\u001b[1;31mKeyError\u001b[0m: 'articles'"
     ]
    }
   ],
   "source": [
    "us_president_articles_df = pd.DataFrame(response_json['articles'])\n",
    "us_president_articles_df.head()"
   ]
  },
  {
   "cell_type": "code",
   "execution_count": 6,
   "metadata": {},
   "outputs": [
    {
     "ename": "KeyError",
     "evalue": "-1",
     "output_type": "error",
     "traceback": [
      "\u001b[1;31m---------------------------------------------------------------------------\u001b[0m",
      "\u001b[1;31mKeyError\u001b[0m                                  Traceback (most recent call last)",
      "\u001b[1;32m<ipython-input-6-05c28820b2c3>\u001b[0m in \u001b[0;36m<module>\u001b[1;34m\u001b[0m\n\u001b[0;32m      2\u001b[0m \u001b[0mguardian_response\u001b[0m \u001b[1;33m=\u001b[0m \u001b[0mrequests\u001b[0m\u001b[1;33m.\u001b[0m\u001b[0mget\u001b[0m\u001b[1;33m(\u001b[0m\u001b[0mguardian_url\u001b[0m\u001b[1;33m)\u001b[0m\u001b[1;33m\u001b[0m\u001b[1;33m\u001b[0m\u001b[0m\n\u001b[0;32m      3\u001b[0m \u001b[0mguardian_response_json\u001b[0m \u001b[1;33m=\u001b[0m \u001b[0mguardian_response\u001b[0m\u001b[1;33m.\u001b[0m\u001b[0mjson\u001b[0m\u001b[1;33m(\u001b[0m\u001b[1;33m)\u001b[0m\u001b[1;33m\u001b[0m\u001b[1;33m\u001b[0m\u001b[0m\n\u001b[1;32m----> 4\u001b[1;33m \u001b[0mguardian_response_json\u001b[0m\u001b[1;33m[\u001b[0m\u001b[1;33m-\u001b[0m\u001b[1;36m1\u001b[0m\u001b[1;33m]\u001b[0m\u001b[1;33m\u001b[0m\u001b[1;33m\u001b[0m\u001b[0m\n\u001b[0m",
      "\u001b[1;31mKeyError\u001b[0m: -1"
     ]
    }
   ],
   "source": [
    "guardian_url = \"https://content.guardianapis.com/search?q=Trump%20AND%20stock&show-blocks=all&tag=politics/politics&from-date=2014-01-01&api-key=2e00ffe0-1ee3-4914-90b1-b39eb782de0b\"\n",
    "guardian_response = requests.get(guardian_url)\n",
    "guardian_response_json = guardian_response.json()\n",
    "guardian_response_json"
   ]
  },
  {
   "cell_type": "code",
   "execution_count": null,
   "metadata": {},
   "outputs": [],
   "source": [
    "guardian_articles_df = pd.DataFrame(guardian_response_json['response'])\n",
    "guardian_articles_df.head()"
   ]
  },
  {
   "cell_type": "code",
   "execution_count": null,
   "metadata": {},
   "outputs": [],
   "source": [
    "guardian_dict = {\"Text Summary\": []};\n",
    "for i in range(len(guardian_response_json[\"response\"][\"results\"])):\n",
    "    article = guardian_response_json[\"response\"][\"results\"][i][\"blocks\"][\"body\"][0][\"bodyTextSummary\"]\n",
    "    guardian_dict[\"Text Summary\"].append(article)\n",
    "    # crypto_dict[\"Price\"].append(price)\n",
    "    # crypto_dict[\"Percent Change (1h)\"].append(percent_change_1h)\n",
    "    # crypto_dict[\"Percent Change (24h)\"].append(percent_change_24h)\n",
    "    # crypto_dict[\"Percent Change (7d)\"].append(percent_change_7d)\n",
    "    # print(f\"{name} is currently priced at ${price} which is a {percent_change_1h}% change from one hour ago\")\n",
    "guardian_dict"
   ]
  },
  {
   "cell_type": "code",
   "execution_count": null,
   "metadata": {},
   "outputs": [],
   "source": [
    "for i in range(len(guardian_response_json[\"response\"][\"results\"])):\n",
    "    print(guardian_response_json[\"response\"][\"results\"][i][\"blocks\"][\"body\"][0][\"bodyTextSummary\"])\n",
    "    print()\n",
    "    print(\"-----------------------------------------------------------------------------\")\n",
    "    print()"
   ]
  },
  {
   "cell_type": "code",
   "execution_count": null,
   "metadata": {},
   "outputs": [],
   "source": [
    "guardian_df = pd.DataFrame(guardian_dict)\n",
    "guardian_df"
   ]
  },
  {
   "cell_type": "code",
   "execution_count": null,
   "metadata": {},
   "outputs": [],
   "source": []
  }
 ],
 "metadata": {
  "kernelspec": {
   "display_name": "Python 3",
   "language": "python",
   "name": "python3"
  },
  "language_info": {
   "codemirror_mode": {
    "name": "ipython",
    "version": 3
   },
   "file_extension": ".py",
   "mimetype": "text/x-python",
   "name": "python",
   "nbconvert_exporter": "python",
   "pygments_lexer": "ipython3",
   "version": "3.8.3"
  }
 },
 "nbformat": 4,
 "nbformat_minor": 4
}
