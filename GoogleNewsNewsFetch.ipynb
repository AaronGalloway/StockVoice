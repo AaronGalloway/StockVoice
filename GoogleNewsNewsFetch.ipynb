{
 "cells": [
  {
   "cell_type": "code",
   "execution_count": 93,
   "metadata": {},
   "outputs": [],
   "source": [
    "from GoogleNews import GoogleNews\n",
    "from newsfetch.news import newspaper\n",
    "\n",
    "listOfArticles = []\n",
    "for i in range(2):\n",
    "    googlenews = GoogleNews()\n",
    "    googlenews.set_lang('en')\n",
    "    # googlenews.set_period('365d')\n",
    "    googlenews.set_time_range('01/01/2020','12/06/2020')\n",
    "    googlenews.set_encode('utf-8')\n",
    "    googlenews.search('election')\n",
    "    all_articles = {\"article\": []}\n",
    "    googlenews.get_page(i)\n",
    "    res = googlenews.result()\n",
    "    listOfArticles.append(res)"
   ]
  },
  {
   "cell_type": "code",
   "execution_count": 94,
   "metadata": {},
   "outputs": [
    {
     "data": {
      "text/plain": [
       "{'title': 'Trump and the G.O.P. Lost Georgia. Black Voters Won It',\n",
       " 'media': 'The New Yorker',\n",
       " 'date': '2 days ago',\n",
       " 'datetime': datetime.datetime(2021, 1, 7, 10, 6, 40, 646793),\n",
       " 'desc': 'A final push from the President in Dalton, and the tale told by turnout.',\n",
       " 'link': 'https://www.newyorker.com/news/campaign-chronicles/trump-and-the-gop-lost-georgia-and-black-voters-won-it',\n",
       " 'img': 'data:image/gif;base64,R0lGODlhAQABAIAAAP///////yH5BAEKAAEALAAAAAABAAEAAAICTAEAOw=='}"
      ]
     },
     "execution_count": 94,
     "metadata": {},
     "output_type": "execute_result"
    }
   ],
   "source": [
    "listOfArticles[0][3]\n",
    "\n"
   ]
  },
  {
   "cell_type": "code",
   "execution_count": 95,
   "metadata": {},
   "outputs": [],
   "source": [
    "from newsfetch.news import newspaper"
   ]
  },
  {
   "cell_type": "code",
   "execution_count": 96,
   "metadata": {},
   "outputs": [
    {
     "name": "stdout",
     "output_type": "stream",
     "text": [
      "{'title': 'In-depth', 'media': 'The New York Times', 'date': '', 'datetime': None, 'desc': '', 'link': 'https://www.nytimes.com/2021/01/05/us/politics/raphael-warnock-georgia-senate.html', 'img': 'data:image/gif;base64,R0lGODlhAQABAIAAAP///////yH5BAEKAAEALAAAAAABAAEAAAICTAEAOw=='}\n",
      "{'title': 'For context', 'media': 'BBC News', 'date': '', 'datetime': None, 'desc': '', 'link': 'https://www.bbc.com/news/election-us-2020-55090145', 'img': 'data:image/gif;base64,R0lGODlhAQABAIAAAP///////yH5BAEKAAEALAAAAAABAAEAAAICTAEAOw=='}\n",
      "{'title': 'Tracking Viral Misinformation: Latest Updates', 'media': 'The New York Times', 'date': '16 hours ago', 'datetime': datetime.datetime(2021, 1, 8, 18, 6, 41, 975621), 'desc': 'Every day, Times reporters will chronicle and debunk false and misleading information that is going viral online. Jan. 8, 2021, 5:11 p.m. ET2 hours ago. 2 hours ...', 'link': 'https://www.nytimes.com/live/2020/2020-election-misinformation-distortions', 'img': 'data:image/gif;base64,R0lGODlhAQABAIAAAP///////yH5BAEKAAEALAAAAAABAAEAAAICTAEAOw=='}\n",
      "{'title': 'Trump and the G.O.P. Lost Georgia. Black Voters Won It', 'media': 'The New Yorker', 'date': '2 days ago', 'datetime': datetime.datetime(2021, 1, 7, 10, 6, 41, 976618), 'desc': 'A final push from the President in Dalton, and the tale told by turnout.', 'link': 'https://www.newyorker.com/news/campaign-chronicles/trump-and-the-gop-lost-georgia-and-black-voters-won-it', 'img': 'data:image/gif;base64,R0lGODlhAQABAIAAAP///////yH5BAEKAAEALAAAAAABAAEAAAICTAEAOw=='}\n",
      "{'title': 'Timeline: After years of slow steps, Facebook muzzles Trump', 'media': 'Associated Press', 'date': '1 day ago', 'datetime': datetime.datetime(2021, 1, 8, 10, 6, 41, 978612), 'desc': 'In a step many thought would never come, Facebook and Twitter have suspended President Donald Trump from posting to their platforms following the storming ...', 'link': 'https://apnews.com/article/facebook-ban-trump-timeline-e1ce70879eca7cfa3a28f66cb3c8d685', 'img': 'data:image/gif;base64,R0lGODlhAQABAIAAAP///////yH5BAEKAAEALAAAAAABAAEAAAICTAEAOw=='}\n",
      "{'title': 'Explained: What to expect next in US election certification', 'media': 'Moneycontrol.com', 'date': '2 days ago', 'datetime': datetime.datetime(2021, 1, 7, 10, 6, 41, 980607), 'desc': \"Biden's victory was expected to be certified by Congress, despite some Republicans saying they would object to the results from some of the battleground states ...\", 'link': 'https://www.moneycontrol.com/news/world/explained-what-to-expect-next-in-us-election-certification-6314991.html', 'img': 'data:image/gif;base64,R0lGODlhAQABAIAAAP///////yH5BAEKAAEALAAAAAABAAEAAAICTAEAOw=='}\n",
      "{'title': 'President-Elect Biden Could Take Office With His Party In Control Of Congress', 'media': '', 'date': '3 days ago', 'datetime': datetime.datetime(2021, 1, 6, 10, 6, 41, 982601), 'desc': 'Democrats have won at least one of the two Senate runoff elections in Georgia, according to The Associated Press. Raphael Warnock beat Republican Kelly ...', 'link': 'https://www.npr.org/2021/01/06/953857296/president-elect-biden-could-take-office-with-his-party-in-control-of-congress', 'img': 'data:image/gif;base64,R0lGODlhAQABAIAAAP///////yH5BAEKAAEALAAAAAABAAEAAAICTAEAOw=='}\n",
      "{'title': \"Georgia's pro-Trump election chief is now considered a pariah inside the GOP\", 'media': 'CNN', 'date': '1 month ago', 'datetime': datetime.datetime(2020, 12, 9, 10, 6, 41, 985595), 'desc': \"On Friday morning, just hours before his office helped certify that Joe Biden won the state's 16 electoral votes, Georgia Secretary of State Brad Raffensperger ...\", 'link': 'https://www.cnn.com/2020/11/21/politics/brad-raffensperger-georgia-gop-trump/index.html', 'img': 'data:image/gif;base64,R0lGODlhAQABAIAAAP///////yH5BAEKAAEALAAAAAABAAEAAAICTAEAOw=='}\n",
      "{'title': 'Here’s what happens if a U.S. president refuses to leave office', 'media': 'National Geographic', 'date': '1 month ago', 'datetime': datetime.datetime(2020, 12, 9, 10, 6, 41, 988586), 'desc': \"In the time since the U.S. presidential election was called in favor of former Vice President Joe Biden, President Donald Trump's words and actions have raised ...\", 'link': 'https://www.nationalgeographic.com/history/2020/11/what-happens-american-president-refuses-leave-office/', 'img': 'data:image/gif;base64,R0lGODlhAQABAIAAAP///////yH5BAEKAAEALAAAAAABAAEAAAICTAEAOw=='}\n",
      "{'title': 'Calls for martial law and US military oversight of new presidential election draws criticism', 'media': 'Military Times', 'date': '1 month ago', 'datetime': datetime.datetime(2020, 12, 9, 10, 6, 41, 991578), 'desc': 'The idea that the U.S. military would oversee a new nationwide presidential election — ordered under martial law by President Donald Trump — is “insane in a ...', 'link': 'https://www.militarytimes.com/news/your-military/2020/12/02/calls-for-martial-law-and-us-military-oversight-of-new-presidential-elections-draws-criticism/', 'img': 'data:image/gif;base64,R0lGODlhAQABAIAAAP///////yH5BAEKAAEALAAAAAABAAEAAAICTAEAOw=='}\n",
      "{'title': 'In-depth', 'media': 'The New York Times', 'date': '', 'datetime': None, 'desc': '', 'link': 'https://www.nytimes.com/2021/01/05/us/politics/raphael-warnock-georgia-senate.html', 'img': 'data:image/gif;base64,R0lGODlhAQABAIAAAP///////yH5BAEKAAEALAAAAAABAAEAAAICTAEAOw=='}\n",
      "{'title': 'For context', 'media': 'BBC News', 'date': '', 'datetime': None, 'desc': '', 'link': 'https://www.bbc.com/news/election-us-2020-55090145', 'img': 'data:image/gif;base64,R0lGODlhAQABAIAAAP///////yH5BAEKAAEALAAAAAABAAEAAAICTAEAOw=='}\n",
      "{'title': 'Tracking Viral Misinformation: Latest Updates', 'media': 'The New York Times', 'date': '16 hours ago', 'datetime': datetime.datetime(2021, 1, 8, 18, 6, 42, 702089), 'desc': 'Every day, Times reporters will chronicle and debunk false and misleading information that is going viral online. Jan. 8, 2021, 5:11 p.m. ET2 hours ago. 2 hours ...', 'link': 'https://www.nytimes.com/live/2020/2020-election-misinformation-distortions', 'img': 'data:image/gif;base64,R0lGODlhAQABAIAAAP///////yH5BAEKAAEALAAAAAABAAEAAAICTAEAOw=='}\n",
      "{'title': 'Trump and the G.O.P. Lost Georgia. Black Voters Won It', 'media': 'The New Yorker', 'date': '2 days ago', 'datetime': datetime.datetime(2021, 1, 7, 10, 6, 42, 704091), 'desc': 'A final push from the President in Dalton, and the tale told by turnout.', 'link': 'https://www.newyorker.com/news/campaign-chronicles/trump-and-the-gop-lost-georgia-and-black-voters-won-it', 'img': 'data:image/gif;base64,R0lGODlhAQABAIAAAP///////yH5BAEKAAEALAAAAAABAAEAAAICTAEAOw=='}\n",
      "{'title': 'Timeline: After years of slow steps, Facebook muzzles Trump', 'media': 'Associated Press', 'date': '1 day ago', 'datetime': datetime.datetime(2021, 1, 8, 10, 6, 42, 705124), 'desc': 'In a step many thought would never come, Facebook and Twitter have suspended President Donald Trump from posting to their platforms following the storming ...', 'link': 'https://apnews.com/article/facebook-ban-trump-timeline-e1ce70879eca7cfa3a28f66cb3c8d685', 'img': 'data:image/gif;base64,R0lGODlhAQABAIAAAP///////yH5BAEKAAEALAAAAAABAAEAAAICTAEAOw=='}\n",
      "{'title': 'Explained: What to expect next in US election certification', 'media': 'Moneycontrol.com', 'date': '2 days ago', 'datetime': datetime.datetime(2021, 1, 7, 10, 6, 42, 707120), 'desc': \"Biden's victory was expected to be certified by Congress, despite some Republicans saying they would object to the results from some of the battleground states ...\", 'link': 'https://www.moneycontrol.com/news/world/explained-what-to-expect-next-in-us-election-certification-6314991.html', 'img': 'data:image/gif;base64,R0lGODlhAQABAIAAAP///////yH5BAEKAAEALAAAAAABAAEAAAICTAEAOw=='}\n",
      "{'title': 'President-Elect Biden Could Take Office With His Party In Control Of Congress', 'media': '', 'date': '3 days ago', 'datetime': datetime.datetime(2021, 1, 6, 10, 6, 42, 709110), 'desc': 'Democrats have won at least one of the two Senate runoff elections in Georgia, according to The Associated Press. Raphael Warnock beat Republican Kelly ...', 'link': 'https://www.npr.org/2021/01/06/953857296/president-elect-biden-could-take-office-with-his-party-in-control-of-congress', 'img': 'data:image/gif;base64,R0lGODlhAQABAIAAAP///////yH5BAEKAAEALAAAAAABAAEAAAICTAEAOw=='}\n",
      "{'title': \"Georgia's pro-Trump election chief is now considered a pariah inside the GOP\", 'media': 'CNN', 'date': '1 month ago', 'datetime': datetime.datetime(2020, 12, 9, 10, 6, 42, 713098), 'desc': \"On Friday morning, just hours before his office helped certify that Joe Biden won the state's 16 electoral votes, Georgia Secretary of State Brad Raffensperger ...\", 'link': 'https://www.cnn.com/2020/11/21/politics/brad-raffensperger-georgia-gop-trump/index.html', 'img': 'data:image/gif;base64,R0lGODlhAQABAIAAAP///////yH5BAEKAAEALAAAAAABAAEAAAICTAEAOw=='}\n",
      "{'title': 'Here’s what happens if a U.S. president refuses to leave office', 'media': 'National Geographic', 'date': '1 month ago', 'datetime': datetime.datetime(2020, 12, 9, 10, 6, 42, 716093), 'desc': \"In the time since the U.S. presidential election was called in favor of former Vice President Joe Biden, President Donald Trump's words and actions have raised ...\", 'link': 'https://www.nationalgeographic.com/history/2020/11/what-happens-american-president-refuses-leave-office/', 'img': 'data:image/gif;base64,R0lGODlhAQABAIAAAP///////yH5BAEKAAEALAAAAAABAAEAAAICTAEAOw=='}\n",
      "{'title': 'Calls for martial law and US military oversight of new presidential election draws criticism', 'media': 'Military Times', 'date': '1 month ago', 'datetime': datetime.datetime(2020, 12, 9, 10, 6, 42, 718087), 'desc': 'The idea that the U.S. military would oversee a new nationwide presidential election — ordered under martial law by President Donald Trump — is “insane in a ...', 'link': 'https://www.militarytimes.com/news/your-military/2020/12/02/calls-for-martial-law-and-us-military-oversight-of-new-presidential-elections-draws-criticism/', 'img': 'data:image/gif;base64,R0lGODlhAQABAIAAAP///////yH5BAEKAAEALAAAAAABAAEAAAICTAEAOw=='}\n"
     ]
    }
   ],
   "source": [
    "\n",
    "for articles in res:\n",
    "\n",
    "    print(articles)"
   ]
  },
  {
   "cell_type": "code",
   "execution_count": 86,
   "metadata": {},
   "outputs": [
    {
     "ename": "NameError",
     "evalue": "name 'listofAritcles' is not defined",
     "output_type": "error",
     "traceback": [
      "\u001b[1;31m---------------------------------------------------------------------------\u001b[0m",
      "\u001b[1;31mNameError\u001b[0m                                 Traceback (most recent call last)",
      "\u001b[1;32m<ipython-input-86-412f49a956bc>\u001b[0m in \u001b[0;36m<module>\u001b[1;34m\u001b[0m\n\u001b[1;32m----> 1\u001b[1;33m \u001b[1;32mfor\u001b[0m \u001b[0mi\u001b[0m \u001b[1;32min\u001b[0m \u001b[0mlistofAritcles\u001b[0m\u001b[1;33m:\u001b[0m\u001b[1;33m\u001b[0m\u001b[1;33m\u001b[0m\u001b[0m\n\u001b[0m\u001b[0;32m      2\u001b[0m     \u001b[0mprint\u001b[0m\u001b[1;33m(\u001b[0m\u001b[0mi\u001b[0m\u001b[1;33m)\u001b[0m\u001b[1;33m\u001b[0m\u001b[1;33m\u001b[0m\u001b[0m\n",
      "\u001b[1;31mNameError\u001b[0m: name 'listofAritcles' is not defined"
     ]
    }
   ],
   "source": []
  },
  {
   "cell_type": "code",
   "execution_count": null,
   "metadata": {},
   "outputs": [],
   "source": []
  }
 ],
 "metadata": {
  "kernelspec": {
   "display_name": "Python 3",
   "language": "python",
   "name": "python3"
  },
  "language_info": {
   "codemirror_mode": {
    "name": "ipython",
    "version": 3
   },
   "file_extension": ".py",
   "mimetype": "text/x-python",
   "name": "python",
   "nbconvert_exporter": "python",
   "pygments_lexer": "ipython3",
   "version": "3.7.7"
  }
 },
 "nbformat": 4,
 "nbformat_minor": 4
}
