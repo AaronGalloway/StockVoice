{
 "cells": [
  {
   "cell_type": "code",
   "execution_count": 25,
   "metadata": {},
   "outputs": [
    {
     "name": "stderr",
     "output_type": "stream",
     "text": [
      "[nltk_data] Downloading package reuters to\n",
      "[nltk_data]     C:\\Users\\brand\\AppData\\Roaming\\nltk_data...\n",
      "[nltk_data]   Package reuters is already up-to-date!\n",
      "[nltk_data] Downloading package punkt to\n",
      "[nltk_data]     C:\\Users\\brand\\AppData\\Roaming\\nltk_data...\n",
      "[nltk_data]   Package punkt is already up-to-date!\n"
     ]
    }
   ],
   "source": [
    "# initial imports\n",
    "import nltk\n",
    "from nltk.corpus import reuters\n",
    "from nltk.tokenize import sent_tokenize, word_tokenize\n",
    "nltk.download(\"reuters\")\n",
    "nltk.download(\"punkt\")\n",
    "import numpy as np\n",
    "import pandas as pd\n",
    "from wordcloud import WordCloud\n",
    "import matplotlib.pyplot as plt\n",
    "import matplotlib as mpl\n",
    "from sklearn.feature_extraction.text import CountVectorizer\n",
    "from sklearn.feature_extraction.text import TfidfVectorizer\n",
    "\n",
    "plt.style.use(\"seaborn-whitegrid\")\n",
    "mpl.rcParams[\"figure.figsize\"] = [20.0, 10.0]\n"
   ]
  },
  {
   "cell_type": "code",
   "execution_count": 26,
   "metadata": {},
   "outputs": [
    {
     "name": "stdout",
     "output_type": "stream",
     "text": [
      "['acq', 'alum', 'barley', 'bop', 'carcass', 'castor-oil', 'cocoa', 'coconut', 'coconut-oil', 'coffee', 'copper', 'copra-cake', 'corn', 'cotton', 'cotton-oil', 'cpi', 'cpu', 'crude', 'dfl', 'dlr', 'dmk', 'earn', 'fuel', 'gas', 'gnp', 'gold', 'grain', 'groundnut', 'groundnut-oil', 'heat', 'hog', 'housing', 'income', 'instal-debt', 'interest', 'ipi', 'iron-steel', 'jet', 'jobs', 'l-cattle', 'lead', 'lei', 'lin-oil', 'livestock', 'lumber', 'meal-feed', 'money-fx', 'money-supply', 'naphtha', 'nat-gas', 'nickel', 'nkr', 'nzdlr', 'oat', 'oilseed', 'orange', 'palladium', 'palm-oil', 'palmkernel', 'pet-chem', 'platinum', 'potato', 'propane', 'rand', 'rape-oil', 'rapeseed', 'reserves', 'retail', 'rice', 'rubber', 'rye', 'ship', 'silver', 'sorghum', 'soy-meal', 'soy-oil', 'soybean', 'strategic-metal', 'sugar', 'sun-meal', 'sun-oil', 'sunseed', 'tea', 'tin', 'trade', 'veg-oil', 'wheat', 'wpi', 'yen', 'zinc']\n"
     ]
    }
   ],
   "source": [
    "print(reuters.categories())"
   ]
  },
  {
   "cell_type": "code",
   "execution_count": 27,
   "metadata": {},
   "outputs": [
    {
     "data": {
      "text/plain": [
       "'test/17620'"
      ]
     },
     "execution_count": 27,
     "metadata": {},
     "output_type": "execute_result"
    }
   ],
   "source": [
    "reuters.fileids(categories=\"dfl\")[0]"
   ]
  },
  {
   "cell_type": "code",
   "execution_count": 28,
   "metadata": {},
   "outputs": [
    {
     "name": "stdout",
     "output_type": "stream",
     "text": [
      "DUTCH OFFICIAL RATE CUT SEEN STILL LIKELY\n",
      "  A cut of about half a percentage point\n",
      "  in Dutch official interest rates is still in prospect, although\n",
      "  economists said the timing would depend on Bundesbank moves.\n",
      "      Speculation has been rife that the Dutch Central Bank,\n",
      "  encouraged by a strong guilder/mark relationship and wide\n",
      "  premiums for Dutch money and capital market rates over German,\n",
      "  might lower rates without the Bundesbank moving first.\n",
      "      Last month, the Central Bank lowered its special advances\n",
      "  rate to 5.1 pct from 5.25 pct after the Bundesbank dropped its\n",
      "  repurchase tender rate to 3.55 pct from 3.8 pct.\n",
      "      That rate has remained in force, just holding above the\n",
      "  five pct official secured loans rate which governs commercial\n",
      "  bank borrowings.\n",
      "      Given a strong guilder, a further fall in the West German\n",
      "  repo rate would trigger a lower special advances tariff,\n",
      "  forcing an official Dutch rate cut, analysts said.\n",
      "      In February, when the Bundesbank cut its discount rate to\n",
      "  three pct from 3.5 pct, the Central Bank only lowered money\n",
      "  market rates and removed a surcharge over the secured loans\n",
      "  rate on lending under its three month credit quota.\n",
      "      Since then, however, both the Central Bank and Finance\n",
      "  Ministry have made it clear they favour lower official rates.\n",
      "      In April, Central Bank President Wim Duisenberg said he\n",
      "  would follow any Bundesbank cut, and last week the Finance\n",
      "  Ministry expressed satisfaction when it raised 2.25 billion\n",
      "  guilders with a six pct coupon state loan priced at 100.10 pct\n",
      "  for an effective yield of 5.98 pct, the lowest since 1965.\n",
      "      Technically, analysts said, there has to be a difference\n",
      "  between the secured loans rate which applies to lending under\n",
      "  the credit quota, and the tariff on special advances which add\n",
      "  extra liquidity to the money market.\n",
      "      Bank economists and dealers said a West German move to\n",
      "  further lower the rate on securities repurchase pacts would\n",
      "  result in the Central Bank easing the special advance rate,\n",
      "  provided the guilder/mark relationship permitted.\n",
      "      The Central Bank aims to keep the guilder stable around its\n",
      "  parity value within the European Monetary System of 112.673\n",
      "  guilders per 100 marks.\n",
      "      Today, foreign exchange buying pushed the mark up 10\n",
      "  guilder cents to 112.705 guilders per 100 at the fix, a level\n",
      "  that would not permit a change in the interest rate\n",
      "  differential between West Germany and the Netherlands, dealers\n",
      "  said.\n",
      "      An economist at ABN Bank said he expected West German and\n",
      "  Dutch interest rates to ease in the short term. However, he\n",
      "  said new wage agreements in West Germany had raised inflation\n",
      "  expectations which would put upward pressure on interest rates\n",
      "  in the longer term.\n",
      "      In the Netherlands, the inflation outlook for 1987 is nil,\n",
      "  or even negative, while the latest official economic forecasts\n",
      "  point to a falling rate of economic growth.\n",
      "      \"It will depend on the outcome of collective wage agreement\n",
      "  negotiations here whether there could be cost push inflation,\"\n",
      "  the ABN economist said.\n",
      "      He said Dutch money supply growth, which ran at 3.4 pct in\n",
      "  January, could also contribute to some inflation.\n",
      "      At Amro Bank, a leading analyst said inflation could run to\n",
      "  two pct next year. The bank expects Dutch capital market rates,\n",
      "  currently averaging around 6.1 pct, to stop easing in the\n",
      "  second half of this year and stabilize around 5.6 pct.\n",
      "      Analysts said an official rate cut could trigger a buying\n",
      "  spree on the bond market which would bring yields down,\n",
      "  probably only temporarily, while money rates could fall below\n",
      "  five pct.\n",
      "      Currently, all periods are traded at 5.12 to 5.25 pct in\n",
      "  the money market.\n",
      "  \n",
      "\n",
      "\n"
     ]
    }
   ],
   "source": [
    "article = reuters.raw(\"test/17620\")\n",
    "print(article)"
   ]
  },
  {
   "cell_type": "code",
   "execution_count": 29,
   "metadata": {},
   "outputs": [
    {
     "data": {
      "text/plain": [
       "['DUTCH OFFICIAL RATE CUT SEEN STILL LIKELY\\n  A cut of about half a percentage point\\n  in Dutch official interest rates is still in prospect, although\\n  economists said the timing would depend on Bundesbank moves',\n",
       " '\\n      Speculation has been rife that the Dutch Central Bank,\\n  encouraged by a strong guilder/mark relationship and wide\\n  premiums for Dutch money and capital market rates over German,\\n  might lower rates without the Bundesbank moving first',\n",
       " '\\n      Last month, the Central Bank lowered its special advances\\n  rate to 5',\n",
       " '1 pct from 5',\n",
       " '25 pct after the Bundesbank dropped its\\n  repurchase tender rate to 3',\n",
       " '55 pct from 3',\n",
       " '8 pct',\n",
       " '\\n      That rate has remained in force, just holding above the\\n  five pct official secured loans rate which governs commercial\\n  bank borrowings',\n",
       " '\\n      Given a strong guilder, a further fall in the West German\\n  repo rate would trigger a lower special advances tariff,\\n  forcing an official Dutch rate cut, analysts said',\n",
       " '\\n      In February, when the Bundesbank cut its discount rate to\\n  three pct from 3',\n",
       " '5 pct, the Central Bank only lowered money\\n  market rates and removed a surcharge over the secured loans\\n  rate on lending under its three month credit quota',\n",
       " '\\n      Since then, however, both the Central Bank and Finance\\n  Ministry have made it clear they favour lower official rates',\n",
       " '\\n      In April, Central Bank President Wim Duisenberg said he\\n  would follow any Bundesbank cut, and last week the Finance\\n  Ministry expressed satisfaction when it raised 2',\n",
       " '25 billion\\n  guilders with a six pct coupon state loan priced at 100',\n",
       " '10 pct\\n  for an effective yield of 5',\n",
       " '98 pct, the lowest since 1965',\n",
       " '\\n      Technically, analysts said, there has to be a difference\\n  between the secured loans rate which applies to lending under\\n  the credit quota, and the tariff on special advances which add\\n  extra liquidity to the money market',\n",
       " '\\n      Bank economists and dealers said a West German move to\\n  further lower the rate on securities repurchase pacts would\\n  result in the Central Bank easing the special advance rate,\\n  provided the guilder/mark relationship permitted',\n",
       " '\\n      The Central Bank aims to keep the guilder stable around its\\n  parity value within the European Monetary System of 112',\n",
       " '673\\n  guilders per 100 marks',\n",
       " '\\n      Today, foreign exchange buying pushed the mark up 10\\n  guilder cents to 112',\n",
       " '705 guilders per 100 at the fix, a level\\n  that would not permit a change in the interest rate\\n  differential between West Germany and the Netherlands, dealers\\n  said',\n",
       " '\\n      An economist at ABN Bank said he expected West German and\\n  Dutch interest rates to ease in the short term',\n",
       " ' However, he\\n  said new wage agreements in West Germany had raised inflation\\n  expectations which would put upward pressure on interest rates\\n  in the longer term',\n",
       " '\\n      In the Netherlands, the inflation outlook for 1987 is nil,\\n  or even negative, while the latest official economic forecasts\\n  point to a falling rate of economic growth',\n",
       " '\\n      \"It will depend on the outcome of collective wage agreement\\n  negotiations here whether there could be cost push inflation,\"\\n  the ABN economist said',\n",
       " '\\n      He said Dutch money supply growth, which ran at 3',\n",
       " '4 pct in\\n  January, could also contribute to some inflation',\n",
       " '\\n      At Amro Bank, a leading analyst said inflation could run to\\n  two pct next year',\n",
       " ' The bank expects Dutch capital market rates,\\n  currently averaging around 6',\n",
       " '1 pct, to stop easing in the\\n  second half of this year and stabilize around 5',\n",
       " '6 pct',\n",
       " '\\n      Analysts said an official rate cut could trigger a buying\\n  spree on the bond market which would bring yields down,\\n  probably only temporarily, while money rates could fall below\\n  five pct',\n",
       " '\\n      Currently, all periods are traded at 5',\n",
       " '12 to 5',\n",
       " '25 pct in\\n  the money market',\n",
       " '\\n  \\n\\n']"
      ]
     },
     "execution_count": 29,
     "metadata": {},
     "output_type": "execute_result"
    }
   ],
   "source": [
    "article.split('.')"
   ]
  },
  {
   "cell_type": "code",
   "execution_count": 30,
   "metadata": {},
   "outputs": [
    {
     "name": "stdout",
     "output_type": "stream",
     "text": [
      "['DUTCH', 'OFFICIAL', 'RATE', 'CUT', 'SEEN', 'STILL', 'LIKELY\\n', '', 'A', 'cut', 'of', 'about', 'half', 'a', 'percentage', 'point\\n', '', 'in', 'Dutch', 'official', 'interest', 'rates', 'is', 'still', 'in', 'prospect,', 'although\\n', '', 'economists', 'said', 'the', 'timing', 'would', 'depend', 'on', 'Bundesbank', 'moves']\n"
     ]
    }
   ],
   "source": [
    "sent = article.split(\".\")[0]\n",
    "print(sent.split(' '))"
   ]
  },
  {
   "cell_type": "markdown",
   "metadata": {},
   "source": [
    "# NLTK Natural Learning Took Kit Tokenization"
   ]
  },
  {
   "cell_type": "code",
   "execution_count": 42,
   "metadata": {},
   "outputs": [
    {
     "data": {
      "text/plain": [
       "'DUTCH OFFICIAL RATE CUT SEEN STILL LIKELY\\n  A cut of about half a percentage point\\n  in Dutch official interest rates is still in prospect, although\\n  economists said the timing would depend on Bundesbank moves.'"
      ]
     },
     "execution_count": 42,
     "metadata": {},
     "output_type": "execute_result"
    }
   ],
   "source": [
    "sent_tokenize(article)[0]"
   ]
  },
  {
   "cell_type": "code",
   "execution_count": 43,
   "metadata": {},
   "outputs": [
    {
     "name": "stdout",
     "output_type": "stream",
     "text": [
      "['DUTCH', 'OFFICIAL', 'RATE', 'CUT', 'SEEN', 'STILL', 'LIKELY', 'A', 'cut', 'of', 'about', 'half', 'a', 'percentage', 'point', 'in', 'Dutch', 'official', 'interest', 'rates', 'is', 'still', 'in', 'prospect', ',', 'although', 'economists', 'said', 'the', 'timing', 'would', 'depend', 'on', 'Bundesbank', 'moves']\n"
     ]
    }
   ],
   "source": [
    "print(word_tokenize(sent))"
   ]
  },
  {
   "cell_type": "code",
   "execution_count": null,
   "metadata": {},
   "outputs": [],
   "source": []
  }
 ],
 "metadata": {
  "kernelspec": {
   "display_name": "Python [conda env:pyvizenv] *",
   "language": "python",
   "name": "conda-env-pyvizenv-py"
  },
  "language_info": {
   "codemirror_mode": {
    "name": "ipython",
    "version": 3
   },
   "file_extension": ".py",
   "mimetype": "text/x-python",
   "name": "python",
   "nbconvert_exporter": "python",
   "pygments_lexer": "ipython3",
   "version": "3.8.2"
  }
 },
 "nbformat": 4,
 "nbformat_minor": 4
}
