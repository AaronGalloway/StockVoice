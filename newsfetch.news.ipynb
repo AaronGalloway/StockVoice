{
 "cells": [
  {
   "cell_type": "code",
   "execution_count": 30,
   "metadata": {},
   "outputs": [],
   "source": [
    "from GoogleNews import GoogleNews\n",
    "from newsfetch.news import newspaper\n",
    "googlenews = GoogleNews()\n",
    "googlenews.set_lang('en')\n",
    "googlenews.set_period('1d')\n",
    "googlenews.set_time_range('01/01/2020','12/03/2020')\n",
    "googlenews.search('election')\n",
    "\n"
   ]
  },
  {
   "cell_type": "code",
   "execution_count": 31,
   "metadata": {},
   "outputs": [
    {
     "data": {
      "text/plain": [
       "['\"I wasnt mad at them. They were doing their job and I was doing my job,\" Mr. Warnock said. \"But in a few days Im going to meet those Capitol Hill police officers again and this time they will not be taking me to central booking. They can help me find my new office.\" Mr. Warnocks victory over Senator Kelly Loeffler early Wednesday is a fitting culmination to an election cycle in which, hours after Joseph R. Biden Jr. was declared the president-elect, he told Black voters, \"Youve always had my back, and Ill have yours.\" It is also a generational breakthrough for Southern Black Democrats. Mr. Warnock, 51, the pastor who took the pulpit at Ebenezer Baptist Church, where the Rev. Dr. Martin Luther King Jr. once preached, spoke on the campaign trail about his life experiences as a Black man born and raised in the South. He ran for office in a state where people in predominantly Black neighborhoods waited in disproportionately long lines to vote last year, and where one study found that more than 80 percent of the residents hospitalized for coronavirus in the state were Black -- vestiges of systemic racism in the democratic and health care systems. Political power in the former Jim Crow South, where few Black Americans have been elected to statewide office, is inextricably linked to race. And Mr. Warnocks place in the political universe is distinct from the election of Ms. Harris, or Northerners like former President Barack Obama, previously a senator from Illinois, and Senator Cory Booker of New Jersey. Together, Mr. Warnock and Jon Ossoff, the other Democratic candidate, have the chance to expand the legislative agenda of Mr. Biden. But Mr. Warnock alone was seeking to overcome a barrier reinforced in the South over and over again, crystallized in a saying that became popular during the civil rights movement: \"The South doesnt care how close a Negro gets, just so he doesnt get too high.\"']"
      ]
     },
     "execution_count": 31,
     "metadata": {},
     "output_type": "execute_result"
    }
   ],
   "source": [
    "all_articles = []\n",
    "for link in googlenews.get_links():\n",
    "    search = newspaper(link)\n",
    "    all_articles.append(search.article)\n",
    "    break\n",
    "all_articles"
   ]
  },
  {
   "cell_type": "code",
   "execution_count": null,
   "metadata": {},
   "outputs": [],
   "source": []
  },
  {
   "cell_type": "code",
   "execution_count": null,
   "metadata": {},
   "outputs": [],
   "source": []
  }
 ],
 "metadata": {
  "kernelspec": {
   "display_name": "Python 3",
   "language": "python",
   "name": "python3"
  },
  "language_info": {
   "codemirror_mode": {
    "name": "ipython",
    "version": 3
   },
   "file_extension": ".py",
   "mimetype": "text/x-python",
   "name": "python",
   "nbconvert_exporter": "python",
   "pygments_lexer": "ipython3",
   "version": "3.7.7"
  }
 },
 "nbformat": 4,
 "nbformat_minor": 4
}
